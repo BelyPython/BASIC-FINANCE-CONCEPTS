{
 "cells": [
  {
   "cell_type": "code",
   "execution_count": 1,
   "metadata": {},
   "outputs": [],
   "source": [
    "import pandas as pd\n",
    "import numpy as np"
   ]
  },
  {
   "cell_type": "markdown",
   "metadata": {},
   "source": [
    "# DURACION DE UN BONO"
   ]
  },
  {
   "cell_type": "code",
   "execution_count": 62,
   "metadata": {},
   "outputs": [],
   "source": [
    "def duracion (numero_de_años,precio_actual,interes,cupon):\n",
    "    años = range(1,numero_de_años)\n",
    "    duracion_ultimo = cupon*((cupon + 100/(1 + interes)**numero_de_años)/precio_actual)   \n",
    "    datos = []\n",
    "    for n in años:\n",
    "        duracion = n*((cupon /(1 + interes)**n)/precio_actual)\n",
    "        datos.append(duracion)\n",
    "    return np.array(datos).sum()+duracion_ultimo\n",
    "\n"
   ]
  },
  {
   "cell_type": "code",
   "execution_count": 61,
   "metadata": {},
   "outputs": [
    {
     "data": {
      "text/plain": [
       "4.59978781252469"
      ]
     },
     "execution_count": 61,
     "metadata": {},
     "output_type": "execute_result"
    }
   ],
   "source": [
    "duracion(5,104.45,0.04,5)"
   ]
  },
  {
   "cell_type": "code",
   "execution_count": 63,
   "metadata": {},
   "outputs": [],
   "source": [
    "#SENSIBILIDAD A LA SUBIDA DE LOS TIPOS DE INTERES"
   ]
  },
  {
   "cell_type": "code",
   "execution_count": 64,
   "metadata": {},
   "outputs": [
    {
     "data": {
      "text/plain": [
       "4.404087087166342"
      ]
     },
     "execution_count": 64,
     "metadata": {},
     "output_type": "execute_result"
    }
   ],
   "source": [
    "duracion(5,104.45,0.05,5)"
   ]
  },
  {
   "cell_type": "code",
   "execution_count": 65,
   "metadata": {},
   "outputs": [],
   "source": [
    "#LOS BONOS PERPETUOS TIENEN DURACIONES ELEVADAS PERO FINITAS Y VENCIMIENTO INFINITO"
   ]
  },
  {
   "cell_type": "markdown",
   "metadata": {},
   "source": [
    "# PRECIO DE UN BONO"
   ]
  },
  {
   "cell_type": "code",
   "execution_count": 66,
   "metadata": {},
   "outputs": [],
   "source": [
    "def precio_bono (tir, cupon, numero_de_años, principal_del_bono):\n",
    "    data = []\n",
    "    años = range(1, numero_de_años)\n",
    "    ultimo_periodo_descontado = cupon +principal_del_bono  / (1 + tir)**numero_de_años \n",
    "    for n in años:\n",
    "        precio = cupon / (1 + tir)**n \n",
    "        data.append(precio)\n",
    "    return np.array(data).sum() + ultimo_periodo_descontado"
   ]
  },
  {
   "cell_type": "code",
   "execution_count": 67,
   "metadata": {},
   "outputs": [
    {
     "data": {
      "text/plain": [
       "105.34218679721944"
      ]
     },
     "execution_count": 67,
     "metadata": {},
     "output_type": "execute_result"
    }
   ],
   "source": [
    "precio_bono(0.04,5,5,100)"
   ]
  },
  {
   "cell_type": "markdown",
   "metadata": {},
   "source": [
    "# TIR DE UN BONO cupon 0"
   ]
  },
  {
   "cell_type": "code",
   "execution_count": 73,
   "metadata": {},
   "outputs": [],
   "source": [
    "def tir_cupon_cero (principal_del_bono, precio_compra, numero_años):\n",
    "    tir = (principal_del_bono / precio_compra)**(1/numero_años)\n",
    "    return tir - 1"
   ]
  },
  {
   "cell_type": "code",
   "execution_count": 74,
   "metadata": {},
   "outputs": [
    {
     "data": {
      "text/plain": [
       "-0.02831723256799601"
      ]
     },
     "execution_count": 74,
     "metadata": {},
     "output_type": "execute_result"
    }
   ],
   "source": [
    "tir_cupon_cero(100,109,3)"
   ]
  },
  {
   "cell_type": "markdown",
   "metadata": {},
   "source": [
    "# TIR DE UN BONO"
   ]
  },
  {
   "cell_type": "code",
   "execution_count": 107,
   "metadata": {},
   "outputs": [],
   "source": [
    "principal_bono = 100\n",
    "numero_años = 5\n",
    "cupon = 5\n",
    "\n",
    "def tir (principal_bono, numero_años, cupon):\n",
    "    años_ = np.sum(int(numero_años), 1)\n",
    "    años = range(1,años_)\n",
    "    expo = []\n",
    "    for n in años:\n",
    "        exponente = n * cupon\n",
    "        expo.append(exponente)\n",
    "    exponente_ = np.array(expo).sum()\n",
    "    tir = (cupon*numero_años / (principal_bono *(-1)))**(cupon*numero_años / exponente_)\n",
    "    return tir -1\n"
   ]
  },
  {
   "cell_type": "code",
   "execution_count": null,
   "metadata": {},
   "outputs": [],
   "source": [
    "p_b = 95\n",
    "c = 7\n",
    "x = 0.00\n",
    "while True:\n",
    "    cero = -95 + 7/(1 +x) + 7/(1 +x)**2 + 7/(1 +x)**3 +  7/(1 +x)**4 + 7/(1 +x)**5\n",
    "    x += 0.1\n",
    "    if cero == 0:\n",
    "        break"
   ]
  },
  {
   "cell_type": "code",
   "execution_count": null,
   "metadata": {},
   "outputs": [],
   "source": []
  }
 ],
 "metadata": {
  "kernelspec": {
   "display_name": "Python 3",
   "language": "python",
   "name": "python3"
  },
  "language_info": {
   "codemirror_mode": {
    "name": "ipython",
    "version": 3
   },
   "file_extension": ".py",
   "mimetype": "text/x-python",
   "name": "python",
   "nbconvert_exporter": "python",
   "pygments_lexer": "ipython3",
   "version": "3.6.5"
  }
 },
 "nbformat": 4,
 "nbformat_minor": 2
}
